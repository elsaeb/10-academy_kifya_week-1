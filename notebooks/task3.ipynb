{
 "cells": [
  {
   "cell_type": "code",
   "execution_count": 1,
   "id": "c8956e50-c372-4209-a6e8-ab455fbed10d",
   "metadata": {},
   "outputs": [],
   "source": [
    "import pandas as pd\n",
    "import numpy as np \n",
    "import talib as ta\n",
    "import pynance as pn\n",
    "import matplotlib.pyplot as plt"
   ]
  },
  {
   "cell_type": "code",
   "execution_count": 2,
   "id": "f0cdd9c9-7320-4a87-aff2-d8abb64e0f4d",
   "metadata": {},
   "outputs": [],
   "source": [
    "f_data = pd.read_csv('data/yfinance_data/AAPL_historical_data.csv')\n",
    "news_data= pd.read_csv('data/raw_analyst_ratings.csv')"
   ]
  },
  {
   "cell_type": "code",
   "execution_count": 3,
   "id": "8ca2181e-2759-407d-8f56-2528ca6ec7ab",
   "metadata": {},
   "outputs": [
    {
     "data": {
      "text/html": [
       "<div>\n",
       "<style scoped>\n",
       "    .dataframe tbody tr th:only-of-type {\n",
       "        vertical-align: middle;\n",
       "    }\n",
       "\n",
       "    .dataframe tbody tr th {\n",
       "        vertical-align: top;\n",
       "    }\n",
       "\n",
       "    .dataframe thead th {\n",
       "        text-align: right;\n",
       "    }\n",
       "</style>\n",
       "<table border=\"1\" class=\"dataframe\">\n",
       "  <thead>\n",
       "    <tr style=\"text-align: right;\">\n",
       "      <th></th>\n",
       "      <th>Unnamed: 0</th>\n",
       "      <th>headline</th>\n",
       "      <th>url</th>\n",
       "      <th>publisher</th>\n",
       "      <th>date</th>\n",
       "      <th>stock</th>\n",
       "    </tr>\n",
       "  </thead>\n",
       "  <tbody>\n",
       "    <tr>\n",
       "      <th>0</th>\n",
       "      <td>0</td>\n",
       "      <td>Stocks That Hit 52-Week Highs On Friday</td>\n",
       "      <td>https://www.benzinga.com/news/20/06/16190091/s...</td>\n",
       "      <td>Benzinga Insights</td>\n",
       "      <td>2020-06-05 10:30:54-04:00</td>\n",
       "      <td>A</td>\n",
       "    </tr>\n",
       "    <tr>\n",
       "      <th>1</th>\n",
       "      <td>1</td>\n",
       "      <td>Stocks That Hit 52-Week Highs On Wednesday</td>\n",
       "      <td>https://www.benzinga.com/news/20/06/16170189/s...</td>\n",
       "      <td>Benzinga Insights</td>\n",
       "      <td>2020-06-03 10:45:20-04:00</td>\n",
       "      <td>A</td>\n",
       "    </tr>\n",
       "    <tr>\n",
       "      <th>2</th>\n",
       "      <td>2</td>\n",
       "      <td>71 Biggest Movers From Friday</td>\n",
       "      <td>https://www.benzinga.com/news/20/05/16103463/7...</td>\n",
       "      <td>Lisa Levin</td>\n",
       "      <td>2020-05-26 04:30:07-04:00</td>\n",
       "      <td>A</td>\n",
       "    </tr>\n",
       "    <tr>\n",
       "      <th>3</th>\n",
       "      <td>3</td>\n",
       "      <td>46 Stocks Moving In Friday's Mid-Day Session</td>\n",
       "      <td>https://www.benzinga.com/news/20/05/16095921/4...</td>\n",
       "      <td>Lisa Levin</td>\n",
       "      <td>2020-05-22 12:45:06-04:00</td>\n",
       "      <td>A</td>\n",
       "    </tr>\n",
       "    <tr>\n",
       "      <th>4</th>\n",
       "      <td>4</td>\n",
       "      <td>B of A Securities Maintains Neutral on Agilent...</td>\n",
       "      <td>https://www.benzinga.com/news/20/05/16095304/b...</td>\n",
       "      <td>Vick Meyer</td>\n",
       "      <td>2020-05-22 11:38:59-04:00</td>\n",
       "      <td>A</td>\n",
       "    </tr>\n",
       "  </tbody>\n",
       "</table>\n",
       "</div>"
      ],
      "text/plain": [
       "   Unnamed: 0                                           headline  \\\n",
       "0           0            Stocks That Hit 52-Week Highs On Friday   \n",
       "1           1         Stocks That Hit 52-Week Highs On Wednesday   \n",
       "2           2                      71 Biggest Movers From Friday   \n",
       "3           3       46 Stocks Moving In Friday's Mid-Day Session   \n",
       "4           4  B of A Securities Maintains Neutral on Agilent...   \n",
       "\n",
       "                                                 url          publisher  \\\n",
       "0  https://www.benzinga.com/news/20/06/16190091/s...  Benzinga Insights   \n",
       "1  https://www.benzinga.com/news/20/06/16170189/s...  Benzinga Insights   \n",
       "2  https://www.benzinga.com/news/20/05/16103463/7...         Lisa Levin   \n",
       "3  https://www.benzinga.com/news/20/05/16095921/4...         Lisa Levin   \n",
       "4  https://www.benzinga.com/news/20/05/16095304/b...         Vick Meyer   \n",
       "\n",
       "                        date stock  \n",
       "0  2020-06-05 10:30:54-04:00     A  \n",
       "1  2020-06-03 10:45:20-04:00     A  \n",
       "2  2020-05-26 04:30:07-04:00     A  \n",
       "3  2020-05-22 12:45:06-04:00     A  \n",
       "4  2020-05-22 11:38:59-04:00     A  "
      ]
     },
     "execution_count": 3,
     "metadata": {},
     "output_type": "execute_result"
    }
   ],
   "source": [
    "f_data.head()\n",
    "news_data.head()"
   ]
  },
  {
   "cell_type": "code",
   "execution_count": 4,
   "id": "c17750f4-c961-4a73-9ca1-a4d37a1fe48a",
   "metadata": {},
   "outputs": [
    {
     "name": "stdout",
     "output_type": "stream",
     "text": [
      "0    2020-06-05 10:30:54-04:00\n",
      "1    2020-06-03 10:45:20-04:00\n",
      "2    2020-05-26 04:30:07-04:00\n",
      "3    2020-05-22 12:45:06-04:00\n",
      "4    2020-05-22 11:38:59-04:00\n",
      "Name: date, dtype: object\n",
      "0    1980-12-12\n",
      "1    1980-12-15\n",
      "2    1980-12-16\n",
      "3    1980-12-17\n",
      "4    1980-12-18\n",
      "Name: Date, dtype: object\n"
     ]
    }
   ],
   "source": [
    "print(news_data['date'].head())\n",
    "print(f_data['Date'].head())"
   ]
  },
  {
   "cell_type": "code",
   "execution_count": 5,
   "id": "51d66ab7-5a56-427c-a87b-c71d330eaa65",
   "metadata": {
    "scrolled": true
   },
   "outputs": [],
   "source": [
    "# Convert date columns to datetime while handling timezones automatically\n",
    "news_data['Date'] = pd.to_datetime(news_data['date'], utc=True, errors='coerce')\n",
    "f_data['Date'] = pd.to_datetime(f_data['Date'], utc=True, errors='coerce')\n"
   ]
  },
  {
   "cell_type": "code",
   "execution_count": 8,
   "id": "07660abd-c64c-4816-a4c1-345836026145",
   "metadata": {
    "scrolled": true
   },
   "outputs": [],
   "source": [
    "# Convert to datetime first (assuming UTC timezone)\n",
    "news_data['date'] = pd.to_datetime(news_data['date'], errors='coerce', utc=True)\n",
    "\n",
    "# Now normalize and retain the timezone information\n",
    "news_data['Date'] = news_data['date'].dt.normalize()\n"
   ]
  },
  {
   "cell_type": "code",
   "execution_count": 9,
   "id": "5ec275a6-ebbc-494f-9d71-4b2caebb3a09",
   "metadata": {},
   "outputs": [],
   "source": [
    "# Merge datasets on the 'Date' column\n",
    "merged_df = pd.merge(news_data, f_data, on='Date', how='inner')\n"
   ]
  },
  {
   "cell_type": "code",
   "execution_count": 10,
   "id": "a56ddbbd-852d-432a-aa86-6ba185203a35",
   "metadata": {},
   "outputs": [
    {
     "data": {
      "text/html": [
       "<div>\n",
       "<style scoped>\n",
       "    .dataframe tbody tr th:only-of-type {\n",
       "        vertical-align: middle;\n",
       "    }\n",
       "\n",
       "    .dataframe tbody tr th {\n",
       "        vertical-align: top;\n",
       "    }\n",
       "\n",
       "    .dataframe thead th {\n",
       "        text-align: right;\n",
       "    }\n",
       "</style>\n",
       "<table border=\"1\" class=\"dataframe\">\n",
       "  <thead>\n",
       "    <tr style=\"text-align: right;\">\n",
       "      <th></th>\n",
       "      <th>Unnamed: 0</th>\n",
       "      <th>headline</th>\n",
       "      <th>url</th>\n",
       "      <th>publisher</th>\n",
       "      <th>date</th>\n",
       "      <th>stock</th>\n",
       "      <th>Date</th>\n",
       "      <th>Open</th>\n",
       "      <th>High</th>\n",
       "      <th>Low</th>\n",
       "      <th>Close</th>\n",
       "      <th>Adj Close</th>\n",
       "      <th>Volume</th>\n",
       "      <th>Dividends</th>\n",
       "      <th>Stock Splits</th>\n",
       "    </tr>\n",
       "  </thead>\n",
       "  <tbody>\n",
       "    <tr>\n",
       "      <th>0</th>\n",
       "      <td>0</td>\n",
       "      <td>Stocks That Hit 52-Week Highs On Friday</td>\n",
       "      <td>https://www.benzinga.com/news/20/06/16190091/s...</td>\n",
       "      <td>Benzinga Insights</td>\n",
       "      <td>2020-06-05 14:30:54+00:00</td>\n",
       "      <td>A</td>\n",
       "      <td>2020-06-05 00:00:00+00:00</td>\n",
       "      <td>80.837502</td>\n",
       "      <td>82.9375</td>\n",
       "      <td>80.807503</td>\n",
       "      <td>82.875</td>\n",
       "      <td>80.843407</td>\n",
       "      <td>137250400</td>\n",
       "      <td>0.0</td>\n",
       "      <td>0.0</td>\n",
       "    </tr>\n",
       "    <tr>\n",
       "      <th>1</th>\n",
       "      <td>1838</td>\n",
       "      <td>10 Basic Materials Stocks Moving In Friday's P...</td>\n",
       "      <td>https://www.benzinga.com/pre-market-outlook/20...</td>\n",
       "      <td>Benzinga Insights</td>\n",
       "      <td>2020-06-05 11:40:08+00:00</td>\n",
       "      <td>AA</td>\n",
       "      <td>2020-06-05 00:00:00+00:00</td>\n",
       "      <td>80.837502</td>\n",
       "      <td>82.9375</td>\n",
       "      <td>80.807503</td>\n",
       "      <td>82.875</td>\n",
       "      <td>80.843407</td>\n",
       "      <td>137250400</td>\n",
       "      <td>0.0</td>\n",
       "      <td>0.0</td>\n",
       "    </tr>\n",
       "    <tr>\n",
       "      <th>2</th>\n",
       "      <td>5330</td>\n",
       "      <td>Shares of several retail and apparel companies...</td>\n",
       "      <td>https://www.benzinga.com/wiim/20/06/16189953/s...</td>\n",
       "      <td>Benzinga Newsdesk</td>\n",
       "      <td>2020-06-05 14:21:08+00:00</td>\n",
       "      <td>AAN</td>\n",
       "      <td>2020-06-05 00:00:00+00:00</td>\n",
       "      <td>80.837502</td>\n",
       "      <td>82.9375</td>\n",
       "      <td>80.807503</td>\n",
       "      <td>82.875</td>\n",
       "      <td>80.843407</td>\n",
       "      <td>137250400</td>\n",
       "      <td>0.0</td>\n",
       "      <td>0.0</td>\n",
       "    </tr>\n",
       "    <tr>\n",
       "      <th>3</th>\n",
       "      <td>7748</td>\n",
       "      <td>Stocks That Hit 52-Week Highs On Friday</td>\n",
       "      <td>https://www.benzinga.com/news/20/06/16190091/s...</td>\n",
       "      <td>Benzinga Insights</td>\n",
       "      <td>2020-06-05 14:30:54+00:00</td>\n",
       "      <td>AAWW</td>\n",
       "      <td>2020-06-05 00:00:00+00:00</td>\n",
       "      <td>80.837502</td>\n",
       "      <td>82.9375</td>\n",
       "      <td>80.807503</td>\n",
       "      <td>82.875</td>\n",
       "      <td>80.843407</td>\n",
       "      <td>137250400</td>\n",
       "      <td>0.0</td>\n",
       "      <td>0.0</td>\n",
       "    </tr>\n",
       "    <tr>\n",
       "      <th>4</th>\n",
       "      <td>9458</td>\n",
       "      <td>Stocks That Hit 52-Week Highs On Friday</td>\n",
       "      <td>https://www.benzinga.com/news/20/06/16190091/s...</td>\n",
       "      <td>Benzinga Insights</td>\n",
       "      <td>2020-06-05 14:30:54+00:00</td>\n",
       "      <td>ABC</td>\n",
       "      <td>2020-06-05 00:00:00+00:00</td>\n",
       "      <td>80.837502</td>\n",
       "      <td>82.9375</td>\n",
       "      <td>80.807503</td>\n",
       "      <td>82.875</td>\n",
       "      <td>80.843407</td>\n",
       "      <td>137250400</td>\n",
       "      <td>0.0</td>\n",
       "      <td>0.0</td>\n",
       "    </tr>\n",
       "  </tbody>\n",
       "</table>\n",
       "</div>"
      ],
      "text/plain": [
       "   Unnamed: 0                                           headline  \\\n",
       "0           0            Stocks That Hit 52-Week Highs On Friday   \n",
       "1        1838  10 Basic Materials Stocks Moving In Friday's P...   \n",
       "2        5330  Shares of several retail and apparel companies...   \n",
       "3        7748            Stocks That Hit 52-Week Highs On Friday   \n",
       "4        9458            Stocks That Hit 52-Week Highs On Friday   \n",
       "\n",
       "                                                 url          publisher  \\\n",
       "0  https://www.benzinga.com/news/20/06/16190091/s...  Benzinga Insights   \n",
       "1  https://www.benzinga.com/pre-market-outlook/20...  Benzinga Insights   \n",
       "2  https://www.benzinga.com/wiim/20/06/16189953/s...  Benzinga Newsdesk   \n",
       "3  https://www.benzinga.com/news/20/06/16190091/s...  Benzinga Insights   \n",
       "4  https://www.benzinga.com/news/20/06/16190091/s...  Benzinga Insights   \n",
       "\n",
       "                       date stock                      Date       Open  \\\n",
       "0 2020-06-05 14:30:54+00:00     A 2020-06-05 00:00:00+00:00  80.837502   \n",
       "1 2020-06-05 11:40:08+00:00    AA 2020-06-05 00:00:00+00:00  80.837502   \n",
       "2 2020-06-05 14:21:08+00:00   AAN 2020-06-05 00:00:00+00:00  80.837502   \n",
       "3 2020-06-05 14:30:54+00:00  AAWW 2020-06-05 00:00:00+00:00  80.837502   \n",
       "4 2020-06-05 14:30:54+00:00   ABC 2020-06-05 00:00:00+00:00  80.837502   \n",
       "\n",
       "      High        Low   Close  Adj Close     Volume  Dividends  Stock Splits  \n",
       "0  82.9375  80.807503  82.875  80.843407  137250400        0.0           0.0  \n",
       "1  82.9375  80.807503  82.875  80.843407  137250400        0.0           0.0  \n",
       "2  82.9375  80.807503  82.875  80.843407  137250400        0.0           0.0  \n",
       "3  82.9375  80.807503  82.875  80.843407  137250400        0.0           0.0  \n",
       "4  82.9375  80.807503  82.875  80.843407  137250400        0.0           0.0  "
      ]
     },
     "execution_count": 10,
     "metadata": {},
     "output_type": "execute_result"
    }
   ],
   "source": [
    "\n",
    "merged_df.head()"
   ]
  },
  {
   "cell_type": "code",
   "execution_count": null,
   "id": "bce53720-cc39-48f3-b50b-871ce3a28dad",
   "metadata": {},
   "outputs": [],
   "source": [
    "\n"
   ]
  },
  {
   "cell_type": "code",
   "execution_count": 12,
   "id": "4cdf6244-df71-4dd5-b39b-a1af97ab2318",
   "metadata": {},
   "outputs": [
    {
     "name": "stdout",
     "output_type": "stream",
     "text": [
      "['City Holding Q1 GAAP EPS $1.780 Up From $1.300 YoY', 'Investors Love The Stocks In This Emerging Market ETF', \"11 Communication Services Stocks Moving In Wednesday's Pre-Market Session\", 'Stocks Which Set New 52-Week Low Friday, October 26th', \"Bernstein Explains Amazon's 'Prime Now' Service\"]\n"
     ]
    }
   ],
   "source": [
    "import random\n",
    "#from nltk.sentiment import SentimentIntensityAnalyzer\n",
    "from vaderSentiment.vaderSentiment import SentimentIntensityAnalyzer # Set the percentage of data to sample\n",
    "sample_fraction = 0.1\n",
    "# Select a random sample of 10% of the data\n",
    "random_sample = merged_df.sample(frac=sample_fraction, random_state=42)\n",
    "#Extract the 'headline' column\n",
    "headlines = random_sample['headline'].tolist()\n",
    "# Preview the first few random headlines \n",
    "print(headlines[:5])"
   ]
  },
  {
   "cell_type": "code",
   "execution_count": 13,
   "id": "3dc90c1b-f91b-4b55-8b0c-9d96b7349689",
   "metadata": {},
   "outputs": [
    {
     "name": "stdout",
     "output_type": "stream",
     "text": [
      "                                                headline Sentiment\n",
      "15644  City Holding Q1 GAAP EPS $1.780 Up From $1.300...   Neutral\n",
      "42034  Investors Love The Stocks In This Emerging Mar...  Positive\n",
      "19672  11 Communication Services Stocks Moving In Wed...   Neutral\n",
      "39541  Stocks Which Set New 52-Week Low Friday, Octob...  Negative\n",
      "48738    Bernstein Explains Amazon's 'Prime Now' Service   Neutral\n",
      "37035  Healthways Director Shapiro Buys 1,266 Shares ...  Positive\n",
      "19593  Shares of several companies in the financial s...  Negative\n",
      "41645                   54 Biggest Movers From Yesterday   Neutral\n",
      "35147  Post Holdings Says the Hart-Scott-Rodino Waiti...  Positive\n",
      "37340          Stocks That Hit 52-Week Lows On Wednesday  Negative\n"
     ]
    }
   ],
   "source": [
    "\n",
    "# Initialize the VADER sentiment intensity analyzer \n",
    "analyzer = SentimentIntensityAnalyzer ()\n",
    "#Function to get VADER sentiment\n",
    "def vader_sentiment(text):\n",
    "# Get the sentiment scores\n",
    "    sentiment_dict = analyzer.polarity_scores (text) # Classify sentiment\n",
    "    if sentiment_dict['compound'] >= 0.05:\n",
    "        return 'Positive'\n",
    "    elif sentiment_dict['compound'] <= -0.05:\n",
    "        return 'Negative'\n",
    "    else:\n",
    "        return 'Neutral'\n",
    "# Analyze sentiments of the random headlines\n",
    "random_sample['Sentiment'] = random_sample['headline'].apply(vader_sentiment)\n",
    "# Display the first 10 results\n",
    "print(random_sample[['headline', 'Sentiment']].head (10))\n"
   ]
  },
  {
   "cell_type": "code",
   "execution_count": 15,
   "id": "46f88193-1260-4a25-92c2-da3d9acef433",
   "metadata": {},
   "outputs": [],
   "source": [
    "\n",
    "# Calculate daily returns as percentage change\n",
    "f_data['Daily_Returns'] = f_data['Close'].pct_change() * 100\n"
   ]
  },
  {
   "cell_type": "code",
   "execution_count": 19,
   "id": "210a6b01-483f-4d70-9bb3-b11735b71e8a",
   "metadata": {},
   "outputs": [
    {
     "name": "stdout",
     "output_type": "stream",
     "text": [
      "0             NaN\n",
      "1       -5.217061\n",
      "2       -7.339788\n",
      "3        2.475091\n",
      "4        2.899246\n",
      "           ...   \n",
      "10993   -2.875428\n",
      "10994   -0.480456\n",
      "10995    0.216102\n",
      "10996    0.128463\n",
      "10997    0.256597\n",
      "Name: Daily_Returns, Length: 10998, dtype: float64\n"
     ]
    }
   ],
   "source": [
    "print(f_data['Daily_Returns'])"
   ]
  },
  {
   "cell_type": "code",
   "execution_count": 22,
   "id": "31fc26f2-1b54-42f8-94d9-001746c51f16",
   "metadata": {},
   "outputs": [],
   "source": [
    "sia = SentimentIntensityAnalyzer()\n",
    "\n",
    "random_sample['vader_compound'] = random_sample['headline'].apply(lambda x: sia.polarity_scores(x)['compound'])\n",
    "\n"
   ]
  },
  {
   "cell_type": "code",
   "execution_count": 24,
   "id": "024e5740-f62f-4667-918a-bf5c59e37712",
   "metadata": {},
   "outputs": [],
   "source": [
    "# Group by Date and compute the average sentiment score for each day\n",
    "daily_sentiment = random_sample.groupby('Date')['vader_compound'].mean().reset_index()\n",
    "daily_sentiment.columns = ['Date', 'Average_Sentiment']\n"
   ]
  },
  {
   "cell_type": "code",
   "execution_count": 25,
   "id": "20abb6ce-3747-49bc-9541-86892e29a2a0",
   "metadata": {},
   "outputs": [],
   "source": [
    "merged_data = pd.merge(f_data[['Date', 'Daily_Returns']], daily_sentiment, on='Date', how='inner')\n"
   ]
  },
  {
   "cell_type": "code",
   "execution_count": 28,
   "id": "e7472234-c105-4c35-bd3b-d1fc672d610a",
   "metadata": {},
   "outputs": [
    {
     "name": "stdout",
     "output_type": "stream",
     "text": [
      "Pearson correlation coefficient: 0.04426615442355362, p-value: 0.10172349079771455\n",
      "Spearman correlation coefficient: 0.04048129324798263, p-value: 0.13452199032019108\n"
     ]
    }
   ],
   "source": [
    "from scipy.stats import pearsonr, spearmanr\n",
    "\n",
    "# Pearson correlation\n",
    "pearson_corr, p_value = pearsonr(merged_data['Daily_Returns'], merged_data['Average_Sentiment'])\n",
    "print(f\"Pearson correlation coefficient: {pearson_corr}, p-value: {p_value}\")\n",
    "\n",
    "# Spearman rank correlation\n",
    "spearman_corr, p_value = spearmanr(merged_data['Daily_Returns'], merged_data['Average_Sentiment'])\n",
    "print(f\"Spearman correlation coefficient: {spearman_corr}, p-value: {p_value}\")\n"
   ]
  },
  {
   "cell_type": "code",
   "execution_count": 29,
   "id": "ab11477e-183f-455b-8e27-f2242aae78f2",
   "metadata": {},
   "outputs": [
    {
     "data": {
      "image/png": "[encoded data removed]",
      "text/plain": [
       "<Figure size 640x480 with 1 Axes>"
      ]
     },
     "metadata": {},
     "output_type": "display_data"
    }
   ],
   "source": [
    "\n",
    "plt.scatter(merged_data['Average_Sentiment'], merged_data['Daily_Returns'])\n",
    "plt.title(\"Stock Returns vs. News Sentiment\")\n",
    "plt.xlabel(\"Average Sentiment Score\")\n",
    "plt.ylabel(\"Daily Stock Returns (%)\")\n",
    "plt.show()\n"
   ]
  },
  {
   "cell_type": "code",
   "execution_count": null,
   "id": "2440615d-9308-40da-84c9-647e65720017",
   "metadata": {},
   "outputs": [],
   "source": []
  }
 ],
 "metadata": {
  "kernelspec": {
   "display_name": "Anaconda Environment",
   "language": "python",
   "name": "anaconda_env"
  },
  "language_info": {
   "codemirror_mode": {
    "name": "ipython",
    "version": 3
   },
   "file_extension": ".py",
   "mimetype": "text/x-python",
   "name": "python",
   "nbconvert_exporter": "python",
   "pygments_lexer": "ipython3",
   "version": "3.11.7"
  }
 },
 "nbformat": 4,
 "nbformat_minor": 5
}
